{
  "nbformat": 4,
  "nbformat_minor": 0,
  "metadata": {
    "colab": {
      "provenance": [],
      "authorship_tag": "ABX9TyMBZSudAs8dq35vOs7eBiSx",
      "include_colab_link": true
    },
    "kernelspec": {
      "name": "python3",
      "display_name": "Python 3"
    },
    "language_info": {
      "name": "python"
    }
  },
  "cells": [
    {
      "cell_type": "markdown",
      "metadata": {
        "id": "view-in-github",
        "colab_type": "text"
      },
      "source": [
        "<a href=\"https://colab.research.google.com/github/EstefaniTM/My-firts-blog/blob/main/Untitled1.ipynb\" target=\"_parent\"><img src=\"https://colab.research.google.com/assets/colab-badge.svg\" alt=\"Open In Colab\"/></a>"
      ]
    },
    {
      "cell_type": "code",
      "execution_count": null,
      "metadata": {
        "id": "yu43QuV9MreR"
      },
      "outputs": [],
      "source": []
    },
    {
      "cell_type": "code",
      "source": [
        "def menu():\n",
        "    print(\"------------------------------\")\n",
        "    print(\"            MENU              \")\n",
        "    print(\"------------------------------\")\n",
        "    print(\"1. Agregar producto\")\n",
        "    print(\"2. Eliminar producto\")\n",
        "    print(\"3. Consultar producto\")\n",
        "    print(\"4. Modificar stock\")\n",
        "    print(\"0. Salir\")\n",
        "    print(\"------------------------------\")\n",
        "    print(\"\\n\")\n",
        "\n",
        "listaprod = []\n",
        "\n",
        "def agregar_producto():\n",
        "    print(\"\\n-------------Agregar producto-------------\")\n",
        "    try:\n",
        "        ide = int(input(\"Ingrese el id: \"))\n",
        "        prod = input(\"Ingrese el producto: \")\n",
        "        pre = float(input(\"Ingrese el precio: \"))\n",
        "        stocke = int(input(\"Ingrese el stock: \"))\n",
        "        listaprod.append({'id': ide, 'producto': prod, 'precio': pre, 'stock': stocke})\n",
        "        print(f\"Producto {prod} agregado con éxito.\")\n",
        "    except ValueError:\n",
        "        print(\"Error: Ingreso de datos no válido.\")\n",
        "\n",
        "def eliminar_producto():\n",
        "    print(\"\\n-------------Eliminar producto-------------\")\n",
        "    try:\n",
        "        preg2 = int(input(\"Ingrese el id del producto para borrar: \"))\n",
        "        for var in listaprod[:]:\n",
        "            if var['id'] == preg2:\n",
        "                listaprod.remove(var)\n",
        "                print(f\"El producto con id {preg2} ha sido borrado.\")\n",
        "                break\n",
        "        else:\n",
        "            print(\"No se ha encontrado el producto.\")\n",
        "    except ValueError:\n",
        "        print(\"Error: Ingreso de datos no válido.\")\n",
        "\n",
        "def consultar_producto():\n",
        "    print(\"\\n-------------Consultar producto-------------\")\n",
        "    try:\n",
        "        preg3 = int(input(\"Ingrese el id del producto para consultar: \"))\n",
        "        for var in listaprod:\n",
        "            if var['id'] == preg3:\n",
        "                print(f\"Producto: {var['producto']}, Precio: {var['precio']}, Stock: {var['stock']}\")\n",
        "                break\n",
        "        else:\n",
        "            print(\"No se ha encontrado el producto.\")\n",
        "    except ValueError:\n",
        "        print(\"Error: Ingreso de datos no válido.\")\n",
        "\n",
        "def modificar_stock():\n",
        "    print(\"\\n-------------Modificar stock-------------\")\n",
        "    try:\n",
        "        preg4 = int(input(\"Ingrese el id del producto para modificar el stock: \"))\n",
        "        for var in listaprod:\n",
        "            if var['id'] == preg4:\n",
        "                nuevo = int(input(\"Ingrese el nuevo stock: \"))\n",
        "                var['stock'] = nuevo\n",
        "                print(f\"El stock del producto con id {preg4} ha sido modificado a {nuevo}.\")\n",
        "                break\n",
        "        else:\n",
        "            print(\"No se ha encontrado el producto.\")\n",
        "    except ValueError:\n",
        "        print(\"Error: Ingreso de datos no válido.\")\n",
        "\n",
        "while True:\n",
        "    menu()\n",
        "    try:\n",
        "        var = int(input(\"Ingresa un número para empezar: \"))\n",
        "        if var == 0:\n",
        "            print(\"Cerrando...\")\n",
        "            break\n",
        "        elif var == 1:\n",
        "            agregar_producto()\n",
        "        elif var == 2:\n",
        "            eliminar_producto()\n",
        "        elif var == 3:\n",
        "            consultar_producto()\n",
        "        elif var == 4:\n",
        "            modificar_stock()\n",
        "        else:\n",
        "            print(\"Opción no válida. Por favor, intente de nuevo.\")\n",
        "    except ValueError:\n",
        "        print(\"Error: Ingreso de datos no válido.\")"
      ],
      "metadata": {
        "colab": {
          "base_uri": "https://localhost:8080/"
        },
        "id": "zQet8fwEMsIL",
        "outputId": "f631ec66-3df2-4431-8331-84c7c7ead9ec"
      },
      "execution_count": null,
      "outputs": [
        {
          "output_type": "stream",
          "name": "stdout",
          "text": [
            "------------------------------\n",
            "            MENU              \n",
            "------------------------------\n",
            "1. Agregar producto\n",
            "2. Eliminar producto\n",
            "3. Consultar producto\n",
            "4. Modificar stock\n",
            "0. Salir\n",
            "------------------------------\n",
            "\n",
            "\n"
          ]
        }
      ]
    }
  ]
}