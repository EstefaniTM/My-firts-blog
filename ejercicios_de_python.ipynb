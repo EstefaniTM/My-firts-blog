{
  "nbformat": 4,
  "nbformat_minor": 0,
  "metadata": {
    "colab": {
      "provenance": [],
      "authorship_tag": "ABX9TyOSQoWcn3LyObTwoQ6GbQ5z",
      "include_colab_link": true
    },
    "kernelspec": {
      "name": "python3",
      "display_name": "Python 3"
    },
    "language_info": {
      "name": "python"
    }
  },
  "cells": [
    {
      "cell_type": "markdown",
      "metadata": {
        "id": "view-in-github",
        "colab_type": "text"
      },
      "source": [
        "<a href=\"https://colab.research.google.com/github/EstefaniTM/My-firts-blog/blob/main/ejercicios_de_python.ipynb\" target=\"_parent\"><img src=\"https://colab.research.google.com/assets/colab-badge.svg\" alt=\"Open In Colab\"/></a>"
      ]
    },
    {
      "cell_type": "code",
      "execution_count": null,
      "metadata": {
        "colab": {
          "base_uri": "https://localhost:8080/"
        },
        "collapsed": true,
        "id": "zsZllh-vzs4x",
        "outputId": "c9e89208-efb8-43e4-f6f7-a96e38fbc836"
      },
      "outputs": [
        {
          "output_type": "stream",
          "name": "stdout",
          "text": [
            "recorer y mostrar\n",
            "[1, 87, 3, 4, 5, 6, 7, 8]\n",
            "[1, 87, 3, 4, 5, 6, 7, 8]\n",
            "[1, 87, 3, 4, 5, 6, 7, 8]\n",
            "[1, 87, 3, 4, 5, 6, 7, 8]\n",
            "[1, 87, 3, 4, 5, 6, 7, 8]\n",
            "[1, 87, 3, 4, 5, 6, 7, 8]\n",
            "[1, 87, 3, 4, 5, 6, 7, 8]\n",
            "[1, 87, 3, 4, 5, 6, 7, 8]\n",
            "---------------------------------------------------\n",
            "Hacer una funcion que recorra la lista y devuelva un string\n",
            "<class 'str'>\n",
            "-------------------\n",
            "Ordenar y mostrarla\n",
            "[1, 3, 4, 5, 6, 7, 8, 87]\n",
            "-------------------\n",
            "Mostrar la longitud\n",
            "8\n",
            "Buscar algun elemto que el usuario pida por teclado\n",
            "Dame un numero para saber si esta en la lista8\n",
            "El numero esta en la lista\n"
          ]
        }
      ],
      "source": [
        "a=[1,87,3,4,5,6,7,8]\n",
        "\n",
        "print(\"recorer y mostrar\")\n",
        "for var in a:\n",
        "  print(a)\n",
        "print(\"---------------------------------------------------\")\n",
        "print(\"Hacer una funcion que recorra la lista y devuelva un string\")\n",
        "b=str(a)\n",
        "print(type(b))\n",
        "print(\"-------------------\")\n",
        "print(\"Ordenar y mostrarla\")\n",
        "a.sort()\n",
        "print(a)\n",
        "print(\"-------------------\")\n",
        "print(\"Mostrar la longitud\")\n",
        "print(len(a))\n",
        "print(\"Buscar algun elemto que el usuario pida por teclado\")\n",
        "pregunta=int(input(\"Dame un numero para saber si esta en la lista\"))\n",
        "for var in a:\n",
        "  if pregunta == var:\n",
        "    print(\"El numero esta en la lista\")\n",
        "  else:\n",
        "    print(\"El numero no esta en la lista\")\n"
      ]
    },
    {
      "cell_type": "code",
      "source": [
        "#2) Escribir un programa que añada valores a una lista mientras que la longitud sea menor a 120 y mostrar la lista realizado con while y otro programa con for\n",
        "\n",
        "listanueva=[]\n",
        "\n",
        "while True:\n",
        "  pregunta=input(\"ingrese numeros menores a 120: \")\n",
        "  print(\"Pulsa stop para terminar el proceso o el numero 120\")\n",
        "  if pregunta == \"stop\" or pregunta ==\"120\":\n",
        "    print(\"Terminando proceso....\")\n",
        "    break\n",
        "  listanueva.append(pregunta)\n",
        "print(\"\\n\")\n",
        "print(\"La lista agregada es:\")\n",
        "print(listanueva)\n",
        "\n",
        "print(\"\\n\")\n",
        "print(\"Ahora con for\")\n",
        "\n",
        "for var in range()\n",
        "pregunta=input(\"ingrese numeros menores a 120: \")\n"
      ],
      "metadata": {
        "id": "D3TpWkSV08zd",
        "colab": {
          "base_uri": "https://localhost:8080/"
        },
        "outputId": "be3d981a-ac27-4854-b564-e045fed30663"
      },
      "execution_count": null,
      "outputs": [
        {
          "output_type": "stream",
          "name": "stdout",
          "text": [
            "ingrese numeros menores a 120: 5\n",
            "Pulsa stop para terminar el proceso o el numero 120\n",
            "ingrese numeros menores a 120: 67\n",
            "Pulsa stop para terminar el proceso o el numero 120\n",
            "ingrese numeros menores a 120: 120\n",
            "Pulsa stop para terminar el proceso o el numero 120\n",
            "Terminando proceso....\n",
            "\n",
            "\n",
            "La lista agregada es:\n",
            "['5', '67']\n"
          ]
        }
      ]
    },
    {
      "cell_type": "code",
      "source": [
        "#3) Programa que compruebe si una variable esta vacia, y si está vacia rellenarlo con un texto en minusculas y mostrarlo en mayusculas\n",
        "\n",
        "lista=[]\n",
        "\n",
        "if lista is True:\n",
        "  print(\"Es una lista llena\")\n",
        "else:\n",
        "  agregar=input(\"La lista esta vacia agrega algo para llenarla: \")\n",
        "  lista.append(agregar.lower())\n",
        "\n",
        "print(f\"En la lista vacia se ha agregado: {lista}\")\n",
        "print(lista)"
      ],
      "metadata": {
        "colab": {
          "base_uri": "https://localhost:8080/"
        },
        "id": "qGeuranPcc8r",
        "outputId": "db17ed8a-7e0f-4427-801f-19639e8c4e92"
      },
      "execution_count": null,
      "outputs": [
        {
          "output_type": "stream",
          "name": "stdout",
          "text": [
            "La lista esta vacia agrega algo para llenarla: jhj\n",
            "En la lista vacia se ha agregado: ['jhj']\n",
            "['jhj']\n"
          ]
        }
      ]
    },
    {
      "cell_type": "code",
      "source": [
        "#4)Programa que tenga 4 variables, listas, string, entero y booleano, imprimir mensaje con el tipo de dato de cada una... Utilizar funciones\n",
        "\n",
        "def tipo(variable):\n",
        "  tipovar=type(variable)\n",
        "  return(tipovar)\n",
        "\n",
        "lista=[1,2,3,4]\n",
        "strin=\"hola\"\n",
        "entero=9\n",
        "boleano=True\n",
        "\n",
        "print(f\"la variable {lista} es de tipo\", type(lista))\n",
        "print(f\"la variable '{strin}' es de tipo\", type(strin))\n",
        "print(f\"la variable {entero} es de tipo\", type(strin))\n",
        "print(f\"la variable {boleano} es de tipo\", type(boleano))"
      ],
      "metadata": {
        "id": "a8Hfgibyft-l",
        "colab": {
          "base_uri": "https://localhost:8080/"
        },
        "outputId": "447061f3-e459-4a95-badf-2ff17c9dee72"
      },
      "execution_count": 9,
      "outputs": [
        {
          "output_type": "stream",
          "name": "stdout",
          "text": [
            "la variable [1, 2, 3, 4] es de tipo <class 'list'>\n",
            "la variable 'hola' es de tipo <class 'str'>\n",
            "la variable 9 es de tipo <class 'str'>\n",
            "la variable True es de tipo <class 'bool'>\n"
          ]
        }
      ]
    },
    {
      "cell_type": "code",
      "source": [],
      "metadata": {
        "id": "o8d3vqjYUME0"
      },
      "execution_count": null,
      "outputs": []
    }
  ]
}