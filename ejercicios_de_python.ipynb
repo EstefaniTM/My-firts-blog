{
  "nbformat": 4,
  "nbformat_minor": 0,
  "metadata": {
    "colab": {
      "provenance": [],
      "authorship_tag": "ABX9TyO7xBiF+9m7e3pujJTGuPn2",
      "include_colab_link": true
    },
    "kernelspec": {
      "name": "python3",
      "display_name": "Python 3"
    },
    "language_info": {
      "name": "python"
    }
  },
  "cells": [
    {
      "cell_type": "markdown",
      "metadata": {
        "id": "view-in-github",
        "colab_type": "text"
      },
      "source": [
        "<a href=\"https://colab.research.google.com/github/EstefaniTM/My-firts-blog/blob/main/ejercicios_de_python.ipynb\" target=\"_parent\"><img src=\"https://colab.research.google.com/assets/colab-badge.svg\" alt=\"Open In Colab\"/></a>"
      ]
    },
    {
      "cell_type": "code",
      "execution_count": null,
      "metadata": {
        "colab": {
          "base_uri": "https://localhost:8080/"
        },
        "collapsed": true,
        "id": "zsZllh-vzs4x",
        "outputId": "c9e89208-efb8-43e4-f6f7-a96e38fbc836"
      },
      "outputs": [
        {
          "output_type": "stream",
          "name": "stdout",
          "text": [
            "recorer y mostrar\n",
            "[1, 87, 3, 4, 5, 6, 7, 8]\n",
            "[1, 87, 3, 4, 5, 6, 7, 8]\n",
            "[1, 87, 3, 4, 5, 6, 7, 8]\n",
            "[1, 87, 3, 4, 5, 6, 7, 8]\n",
            "[1, 87, 3, 4, 5, 6, 7, 8]\n",
            "[1, 87, 3, 4, 5, 6, 7, 8]\n",
            "[1, 87, 3, 4, 5, 6, 7, 8]\n",
            "[1, 87, 3, 4, 5, 6, 7, 8]\n",
            "---------------------------------------------------\n",
            "Hacer una funcion que recorra la lista y devuelva un string\n",
            "<class 'str'>\n",
            "-------------------\n",
            "Ordenar y mostrarla\n",
            "[1, 3, 4, 5, 6, 7, 8, 87]\n",
            "-------------------\n",
            "Mostrar la longitud\n",
            "8\n",
            "Buscar algun elemto que el usuario pida por teclado\n",
            "Dame un numero para saber si esta en la lista8\n",
            "El numero esta en la lista\n"
          ]
        }
      ],
      "source": [
        "\n",
        "\"\"\"1 Programa con una lista de 8 numeros enteros y que haga lo sigueinte.\n",
        "- Recorrer y mostrarla\n",
        "- Hacer una función que recorra la lista y devuelda un string\n",
        "- Ordenarla y mostrarla\n",
        "- Mostrat longitud\n",
        "- Buscar algún elemento que el usuario pida por teclado\"\"\"\n",
        "\n",
        "a=[1,87,3,4,5,6,7,8]\n",
        "\n",
        "print(\"recorer y mostrar\")\n",
        "for var in a:\n",
        "  print(a)\n",
        "print(\"---------------------------------------------------\")\n",
        "print(\"Hacer una funcion que recorra la lista y devuelva un string\")\n",
        "b=str(a)\n",
        "print(type(b))\n",
        "print(\"-------------------\")\n",
        "print(\"Ordenar y mostrarla\")\n",
        "a.sort()\n",
        "print(a)\n",
        "print(\"-------------------\")\n",
        "print(\"Mostrar la longitud\")\n",
        "print(len(a))\n",
        "print(\"Buscar algun elemto que el usuario pida por teclado\")\n",
        "pregunta=int(input(\"Dame un numero para saber si esta en la lista\"))\n",
        "for var in a:\n",
        "  if pregunta == var:\n",
        "    print(\"El numero esta en la lista\")\n",
        "  else:\n",
        "    print(\"El numero no esta en la lista\")\n"
      ]
    },
    {
      "cell_type": "code",
      "source": [
        "\n",
        "listanueva=[]\n",
        "while True:\n",
        "  pregunta=input(\"ingrese numeros menores a 120: \")\n",
        "  print(\"Pulsa stop para terminar el proceso o el numero 120\")\n",
        "  if pregunta == \"stop\" or pregunta ==\"120\":\n",
        "    print(\"Terminando proceso....\")\n",
        "    break\n",
        "  listanueva.append(pregunta)\n",
        "print(\"\\n\")\n",
        "print(\"La lista agregada es:\")\n",
        "print(listanueva)\n",
        "print(\"\\n\")\n",
        "print(\"Ahora con for\")\n",
        "for var in range()\n",
        "pregunta=input(\"ingrese numeros menores a 120: \")\n"
      ],
      "metadata": {
        "id": "D3TpWkSV08zd",
        "colab": {
          "base_uri": "https://localhost:8080/"
        },
        "outputId": "be3d981a-ac27-4854-b564-e045fed30663"
      },
      "execution_count": null,
      "outputs": [
        {
          "output_type": "stream",
          "name": "stdout",
          "text": [
            "ingrese numeros menores a 120: 5\n",
            "Pulsa stop para terminar el proceso o el numero 120\n",
            "ingrese numeros menores a 120: 67\n",
            "Pulsa stop para terminar el proceso o el numero 120\n",
            "ingrese numeros menores a 120: 120\n",
            "Pulsa stop para terminar el proceso o el numero 120\n",
            "Terminando proceso....\n",
            "\n",
            "\n",
            "La lista agregada es:\n",
            "['5', '67']\n"
          ]
        }
      ]
    },
    {
      "cell_type": "code",
      "source": [
        "\n",
        "lista=[]\n",
        "if lista is True:\n",
        "  print(\"Es una lista llena\")\n",
        "else:\n",
        "  agregar=input(\"La lista esta vacia agrega algo para llenarla: \")\n",
        "  lista.append(agregar.lower())\n",
        "print(f\"En la lista vacia se ha agregado: {lista}\")\n",
        "print(lista)\n"
      ],
      "metadata": {
        "colab": {
          "base_uri": "https://localhost:8080/"
        },
        "id": "qGeuranPcc8r",
        "outputId": "db17ed8a-7e0f-4427-801f-19639e8c4e92"
      },
      "execution_count": null,
      "outputs": [
        {
          "output_type": "stream",
          "name": "stdout",
          "text": [
            "La lista esta vacia agrega algo para llenarla: jhj\n",
            "En la lista vacia se ha agregado: ['jhj']\n",
            "['jhj']\n"
          ]
        }
      ]
    },
    {
      "cell_type": "code",
      "source": [
        "#4)Programa que tenga 4 variables, listas string, entero y booleano, imprimir mensaje con el tipo de dato de cada una... Utilizar funciones\n",
        "\n",
        "def tipo(variable):\n",
        "  tipovar=type(variable)\n",
        "  return(tipovar)\n",
        "\n",
        "lista=[1,2,3,4]\n",
        "\n",
        "print(f\"la variable{lista} es de tipo\", type(lista))\n"
      ],
      "metadata": {
        "id": "a8Hfgibyft-l",
        "colab": {
          "base_uri": "https://localhost:8080/"
        },
        "outputId": "447061f3-e459-4a95-badf-2ff17c9dee72"
      },
      "execution_count": null,
      "outputs": [
        {
          "output_type": "stream",
          "name": "stdout",
          "text": [
            "la variable [1, 2, 3, 4] es de tipo <class 'list'>\n",
            "la variable 'hola' es de tipo <class 'str'>\n",
            "la variable 9 es de tipo <class 'str'>\n",
            "la variable True es de tipo <class 'bool'>\n"
          ]
        }
      ]
    },
    {
      "cell_type": "code",
      "source": [
        "#5 Crea una lista con el contenido de las siguiente tabla de juegos\n",
        "\n",
        "accion=[\"GTA\",\"COD\",\"PUGB\"]\n",
        "aventura=[\"assasin\",\"Crash\",\"Prince of percia\"]\n",
        "deportes=[\"Fifa 21\",\"PRO21\",\"Mog GP 21\"]\n",
        "\n",
        "sorted(accion)\n",
        "sorted(aventura)\n",
        "sorted(deportes)\n",
        "\n",
        "print(\"----------------------------------------\")\n",
        "print(\"Accion\")\n",
        "print(\"----------------------------------------\")\n",
        "print(accion)\n",
        "print(\"----------------------------------------\")\n",
        "print(\"Aventura\")\n",
        "print(\"----------------------------------------\")\n",
        "print(aventura)\n",
        "print(\"----------------------------------------\")\n",
        "print(\"Deportes\")\n",
        "print(\"----------------------------------------\")\n",
        "print(deportes)"
      ],
      "metadata": {
        "colab": {
          "base_uri": "https://localhost:8080/"
        },
        "id": "o8d3vqjYUME0",
        "outputId": "a3d1e490-747d-4f69-e6a2-915dc7830fa5"
      },
      "execution_count": null,
      "outputs": [
        {
          "output_type": "stream",
          "name": "stdout",
          "text": [
            "----------------------------------------\n",
            "Accion\n",
            "----------------------------------------\n",
            "['GTA', 'COD', 'PUGB']\n",
            "----------------------------------------\n",
            "Aventura\n",
            "----------------------------------------\n",
            "['assasin', 'Crash', 'Prince of percia']\n",
            "----------------------------------------\n",
            "Deportes\n",
            "----------------------------------------\n",
            "['Fifa 21', 'PRO21', 'Mog GP 21']\n"
          ]
        }
      ]
    },
    {
      "cell_type": "code",
      "source": [
        "#6 Escribe una función llamada factorial que tome un número como argumento y devuelva su factorial.\n",
        "\n",
        "def factorial(numero):\n",
        "  if numero == 0 or numero == 1:\n",
        "    return 1\n",
        "  else:\n",
        "    return numero * factorial(numero - 1)\n",
        "\n",
        "numero = int(input(\"Introduce un número: \"))\n",
        "resultado = factorial(numero)\n",
        "print(f\"El factorial de {numero} es {resultado}\")\n",
        "\n"
      ],
      "metadata": {
        "colab": {
          "base_uri": "https://localhost:8080/"
        },
        "id": "ZZVfK_VrWBKs",
        "outputId": "4eb21827-ac11-4177-cc16-4f4d97a4e2d9"
      },
      "execution_count": null,
      "outputs": [
        {
          "output_type": "stream",
          "name": "stdout",
          "text": [
            "El factorial de 5 es 120\n"
          ]
        }
      ]
    },
    {
      "cell_type": "code",
      "source": [
        "#7 Escribe una función llamada es_primo que tome un número como argumento y devuelva True si el número es primo y False si no lo es.\n",
        "\n",
        "def es_primo(numero):\n",
        "    if numero <= 1:\n",
        "        return False\n",
        "    for var in range(2, numero):\n",
        "        if numero % var == 0:\n",
        "            return False\n",
        "    return True\n",
        "\n",
        "numero = int(input(\"Introduce un número: \"))\n",
        "resultado = es_primo(numero)\n",
        "print(f\"El numero {numero} es {resultado}\")"
      ],
      "metadata": {
        "colab": {
          "base_uri": "https://localhost:8080/"
        },
        "id": "17CZQPZMJqR2",
        "outputId": "27f1d5bb-7738-40f9-e1ad-20354ba2ea11"
      },
      "execution_count": null,
      "outputs": [
        {
          "output_type": "stream",
          "name": "stdout",
          "text": [
            "Introduce un número: 2\n",
            "El numero 2 es True\n"
          ]
        }
      ]
    },
    {
      "cell_type": "code",
      "source": [
        "#8 Escribe una función llamada primos_hasta que tome un número N y devuelva una lista de todos los números primos menores o iguales a N.\n",
        "\n",
        "def es_primo(numero):\n",
        "    if numero <= 1:\n",
        "        return False\n",
        "    for var in range(2, int(numero**0.5) + 1):\n",
        "        if numero % var == 0:\n",
        "            return False\n",
        "    return True\n",
        "\n",
        "def primos_hasta(N):\n",
        "    primos = []\n",
        "    for num in range(2, N + 1):\n",
        "        if es_primo(num):\n",
        "            primos.append(num)\n",
        "    return primos\n",
        "\n",
        "N = int(input(\"Introduce un número: \"))\n",
        "lista_primos = primos_hasta(N)\n",
        "print(f\"Los números primos menores o iguales a {N} son: {lista_primos}\")\n"
      ],
      "metadata": {
        "colab": {
          "base_uri": "https://localhost:8080/"
        },
        "id": "8T9VfCNuRs8w",
        "outputId": "868031d4-7c60-4f55-bae8-842e1fc59ee0"
      },
      "execution_count": null,
      "outputs": [
        {
          "output_type": "stream",
          "name": "stdout",
          "text": [
            "Introduce un número: 3\n",
            "Los números primos menores o iguales a 3 son: [2, 3]\n"
          ]
        }
      ]
    },
    {
      "cell_type": "code",
      "source": [
        "#9 Escribe una función llamada contar_palabras que tome una cadena de texto y devuelva un diccionario con el conteo de cada palabra.\n",
        "\n",
        "def contar_palabras(texto):\n",
        "    palabras = texto.split()\n",
        "    conteo_palabras = {}\n",
        "    for palabra in palabras:\n",
        "        conteo_palabras[palabra] = conteo_palabras.get(palabra, 0) + 1\n",
        "    return conteo_palabras\n",
        "\n",
        "texto = input(\"Introduce una frase: \")\n",
        "resultado = contar_palabras(texto)\n",
        "print(\"Conteo de palabras:\")\n",
        "for palabra, conteo in resultado.items():\n",
        "    print(f\"{palabra}: {conteo}\")"
      ],
      "metadata": {
        "colab": {
          "base_uri": "https://localhost:8080/"
        },
        "id": "O3g7Q6ruSbee",
        "outputId": "57d202e2-172a-4bdb-ad63-1ca0d191dc66"
      },
      "execution_count": null,
      "outputs": [
        {
          "output_type": "stream",
          "name": "stdout",
          "text": [
            "Introduce una frase: hola no se que hago\n",
            "Conteo de palabras:\n",
            "hola: 1\n",
            "no: 1\n",
            "se: 1\n",
            "que: 1\n",
            "hago: 1\n"
          ]
        }
      ]
    },
    {
      "cell_type": "code",
      "source": [
        "#Escribe una función llamada fibonacci que tome un número n y devuelva los primeros n números de la secuencia de Fibonacci.\n",
        "\n",
        "\n",
        "\n",
        "def fibonacci(n):\n",
        "    fib_sequence = [0, 1]\n",
        "    for i in range(2, n):\n",
        "        next_fib = fib_sequence[-1] + fib_sequence[-2]\n",
        "        fib_sequence.append(next_fib)\n",
        "\n",
        "    return fib_sequence[:n]\n",
        "\n",
        "n = int(input(\"Ingrese el número de elementos de la secuencia de Fibonacci que desea obtener: \"))\n",
        "fibonacci_sequence = fibonacci(n)\n",
        "print(f\"Los primeros {n} números de la secuencia de Fibonacci son: {fibonacci_sequence}\")"
      ],
      "metadata": {
        "colab": {
          "base_uri": "https://localhost:8080/"
        },
        "id": "74g9YmJkU6lE",
        "outputId": "e866bf24-6232-471c-c98c-a97994394a81"
      },
      "execution_count": null,
      "outputs": [
        {
          "output_type": "stream",
          "name": "stdout",
          "text": [
            "Ingrese el número de elementos de la secuencia de Fibonacci que desea obtener: 4\n",
            "Los primeros 4 números de la secuencia de Fibonacci son: [0, 1, 1, 2]\n"
          ]
        }
      ]
    }
  ]
}