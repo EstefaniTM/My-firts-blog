{
  "nbformat": 4,
  "nbformat_minor": 0,
  "metadata": {
    "colab": {
      "provenance": [],
      "authorship_tag": "ABX9TyNoei8QJtveZnCHk0INfzxm",
      "include_colab_link": true
    },
    "kernelspec": {
      "name": "python3",
      "display_name": "Python 3"
    },
    "language_info": {
      "name": "python"
    }
  },
  "cells": [
    {
      "cell_type": "markdown",
      "metadata": {
        "id": "view-in-github",
        "colab_type": "text"
      },
      "source": [
        "<a href=\"https://colab.research.google.com/github/EstefaniTM/My-firts-blog/blob/main/ESTEFANI_TIPANTU%C3%91A_TIENDA_FUNCION.ipynb\" target=\"_parent\"><img src=\"https://colab.research.google.com/assets/colab-badge.svg\" alt=\"Open In Colab\"/></a>"
      ]
    },
    {
      "cell_type": "code",
      "execution_count": 2,
      "metadata": {
        "colab": {
          "base_uri": "https://localhost:8080/",
          "height": 651
        },
        "id": "AaNE0niyYhDS",
        "outputId": "a5a62467-c44e-4bf9-e21d-e1db561ba383"
      },
      "outputs": [
        {
          "output_type": "stream",
          "name": "stdout",
          "text": [
            "------------------------------\n",
            "            MENU              \n",
            "------------------------------\n",
            "1. Agregar producto\n",
            "2. Eliminar producto\n",
            "3. Consultar\n",
            "4. Modificar stock\n",
            "0. Salir\n",
            "------------------------------\n",
            "\n",
            "\n"
          ]
        },
        {
          "output_type": "error",
          "ename": "KeyboardInterrupt",
          "evalue": "Interrupted by user",
          "traceback": [
            "\u001b[0;31m---------------------------------------------------------------------------\u001b[0m",
            "\u001b[0;31mKeyboardInterrupt\u001b[0m                         Traceback (most recent call last)",
            "\u001b[0;32m<ipython-input-2-0e47061ef466>\u001b[0m in \u001b[0;36m<cell line: 60>\u001b[0;34m()\u001b[0m\n\u001b[1;32m     60\u001b[0m \u001b[0;32mwhile\u001b[0m \u001b[0;32mTrue\u001b[0m\u001b[0;34m:\u001b[0m\u001b[0;34m\u001b[0m\u001b[0;34m\u001b[0m\u001b[0m\n\u001b[1;32m     61\u001b[0m     \u001b[0mmenu\u001b[0m\u001b[0;34m(\u001b[0m\u001b[0;34m)\u001b[0m\u001b[0;34m\u001b[0m\u001b[0;34m\u001b[0m\u001b[0m\n\u001b[0;32m---> 62\u001b[0;31m     \u001b[0mvar\u001b[0m \u001b[0;34m=\u001b[0m \u001b[0mint\u001b[0m\u001b[0;34m(\u001b[0m\u001b[0minput\u001b[0m\u001b[0;34m(\u001b[0m\u001b[0;34m\"Ingresa un numero para empezar: \"\u001b[0m\u001b[0;34m)\u001b[0m\u001b[0;34m)\u001b[0m\u001b[0;34m\u001b[0m\u001b[0;34m\u001b[0m\u001b[0m\n\u001b[0m\u001b[1;32m     63\u001b[0m     \u001b[0;32mif\u001b[0m \u001b[0mvar\u001b[0m \u001b[0;34m==\u001b[0m \u001b[0;36m0\u001b[0m\u001b[0;34m:\u001b[0m\u001b[0;34m\u001b[0m\u001b[0;34m\u001b[0m\u001b[0m\n\u001b[1;32m     64\u001b[0m         \u001b[0mprint\u001b[0m\u001b[0;34m(\u001b[0m\u001b[0;34m\"Cerrando...\"\u001b[0m\u001b[0;34m)\u001b[0m\u001b[0;34m\u001b[0m\u001b[0;34m\u001b[0m\u001b[0m\n",
            "\u001b[0;32m/usr/local/lib/python3.10/dist-packages/ipykernel/kernelbase.py\u001b[0m in \u001b[0;36mraw_input\u001b[0;34m(self, prompt)\u001b[0m\n\u001b[1;32m    849\u001b[0m                 \u001b[0;34m\"raw_input was called, but this frontend does not support input requests.\"\u001b[0m\u001b[0;34m\u001b[0m\u001b[0;34m\u001b[0m\u001b[0m\n\u001b[1;32m    850\u001b[0m             )\n\u001b[0;32m--> 851\u001b[0;31m         return self._input_request(str(prompt),\n\u001b[0m\u001b[1;32m    852\u001b[0m             \u001b[0mself\u001b[0m\u001b[0;34m.\u001b[0m\u001b[0m_parent_ident\u001b[0m\u001b[0;34m,\u001b[0m\u001b[0;34m\u001b[0m\u001b[0;34m\u001b[0m\u001b[0m\n\u001b[1;32m    853\u001b[0m             \u001b[0mself\u001b[0m\u001b[0;34m.\u001b[0m\u001b[0m_parent_header\u001b[0m\u001b[0;34m,\u001b[0m\u001b[0;34m\u001b[0m\u001b[0;34m\u001b[0m\u001b[0m\n",
            "\u001b[0;32m/usr/local/lib/python3.10/dist-packages/ipykernel/kernelbase.py\u001b[0m in \u001b[0;36m_input_request\u001b[0;34m(self, prompt, ident, parent, password)\u001b[0m\n\u001b[1;32m    893\u001b[0m             \u001b[0;32mexcept\u001b[0m \u001b[0mKeyboardInterrupt\u001b[0m\u001b[0;34m:\u001b[0m\u001b[0;34m\u001b[0m\u001b[0;34m\u001b[0m\u001b[0m\n\u001b[1;32m    894\u001b[0m                 \u001b[0;31m# re-raise KeyboardInterrupt, to truncate traceback\u001b[0m\u001b[0;34m\u001b[0m\u001b[0;34m\u001b[0m\u001b[0m\n\u001b[0;32m--> 895\u001b[0;31m                 \u001b[0;32mraise\u001b[0m \u001b[0mKeyboardInterrupt\u001b[0m\u001b[0;34m(\u001b[0m\u001b[0;34m\"Interrupted by user\"\u001b[0m\u001b[0;34m)\u001b[0m \u001b[0;32mfrom\u001b[0m \u001b[0;32mNone\u001b[0m\u001b[0;34m\u001b[0m\u001b[0;34m\u001b[0m\u001b[0m\n\u001b[0m\u001b[1;32m    896\u001b[0m             \u001b[0;32mexcept\u001b[0m \u001b[0mException\u001b[0m \u001b[0;32mas\u001b[0m \u001b[0me\u001b[0m\u001b[0;34m:\u001b[0m\u001b[0;34m\u001b[0m\u001b[0;34m\u001b[0m\u001b[0m\n\u001b[1;32m    897\u001b[0m                 \u001b[0mself\u001b[0m\u001b[0;34m.\u001b[0m\u001b[0mlog\u001b[0m\u001b[0;34m.\u001b[0m\u001b[0mwarning\u001b[0m\u001b[0;34m(\u001b[0m\u001b[0;34m\"Invalid Message:\"\u001b[0m\u001b[0;34m,\u001b[0m \u001b[0mexc_info\u001b[0m\u001b[0;34m=\u001b[0m\u001b[0;32mTrue\u001b[0m\u001b[0;34m)\u001b[0m\u001b[0;34m\u001b[0m\u001b[0;34m\u001b[0m\u001b[0m\n",
            "\u001b[0;31mKeyboardInterrupt\u001b[0m: Interrupted by user"
          ]
        }
      ],
      "source": [
        "def menu():\n",
        "    print(\"------------------------------\")\n",
        "    print(\"            MENU              \")\n",
        "    print(\"------------------------------\")\n",
        "    print(\"1. Agregar producto\")\n",
        "    print(\"2. Eliminar producto\")\n",
        "    print(\"3. Consultar\")\n",
        "    print(\"4. Modificar stock\")\n",
        "    print(\"0. Salir\")\n",
        "    print(\"------------------------------\")\n",
        "    print(\"\\n\")\n",
        "\n",
        "def agregar_producto():\n",
        "    print(\"\\n\")\n",
        "    print(\"-------------Agregar producto-------------\")\n",
        "    ide = int(input(\"Ingrese el id: \"))\n",
        "    prod = input(\"Ingrese el producto: \")\n",
        "    pre = float(input(\"Ingrese el precio: \"))\n",
        "    stocke = int(input(\"Ingrese el stock: \"))\n",
        "    listaprod.append({'id': ide, 'productos': prod, 'precio': pre, 'stock': stocke})\n",
        "    print(listaprod)\n",
        "\n",
        "def eliminar_producto():\n",
        "    print(\"\\n\")\n",
        "    print(\"-------------Eliminar producto-------------\")\n",
        "    preg2 = int(input(\"Ingrese el id del producto para borrar: \"))\n",
        "    for var in range(len(listaprod)):\n",
        "        if listaprod[var]['id'] == preg2:\n",
        "            del listaprod[var]\n",
        "            print(f\"El producto {preg2} ha sido borrado\")\n",
        "            break\n",
        "    else:\n",
        "        print(\"No se ha encontrado el producto\")\n",
        "\n",
        "def consultar_producto():\n",
        "    print(\"\\n\")\n",
        "    print(\"-------------Consultar-------------\")\n",
        "    preg3 = int(input(\"Ingrese el id del producto para consultar: \"))\n",
        "    for var in range(len(listaprod)):\n",
        "        if listaprod[var]['id'] == preg3:\n",
        "            print(f\"El producto con id: {preg3} es: {listaprod[var]['productos']}, y su precio es: {listaprod[var]['precio']}\")\n",
        "            break\n",
        "    else:\n",
        "        print(\"No se ha encontrado el producto\")\n",
        "\n",
        "def modificar_stock():\n",
        "    print(\"\\n\")\n",
        "    print(\"-------------Modificar stock-------------\")\n",
        "    preg4 = int(input(\"Ingrese el id del producto para modificar el stock: \"))\n",
        "    for var in range(len(listaprod)):\n",
        "        if listaprod[var]['id'] == preg4:\n",
        "            nuevo = int(input(\"Ingrese el número que quiere modificar del stock: \"))\n",
        "            listaprod[var]['stock'] = nuevo\n",
        "            print(f\"El stock del producto con id {preg4} ha sido modificado a {nuevo}\")\n",
        "            break\n",
        "    else:\n",
        "        print(\"No se ha encontrado el producto\")\n",
        "\n",
        "listaprod = []\n",
        "while True:\n",
        "    menu()\n",
        "    var = int(input(\"Ingresa un numero para empezar: \"))\n",
        "    if var == 0:\n",
        "        print(\"Cerrando...\")\n",
        "        break\n",
        "    elif var == 1:\n",
        "        agregar_producto()\n",
        "    elif var == 2:\n",
        "        eliminar_producto()\n",
        "    elif var == 3:\n",
        "        consultar_producto()\n",
        "    elif var == 4:\n",
        "        modificar_stock()\n",
        "    else:\n",
        "        print(\"Opción no válida. Por favor, intente de nuevo.\")\n"
      ]
    },
    {
      "cell_type": "code",
      "source": [],
      "metadata": {
        "id": "eiZ5ojlAgBpu"
      },
      "execution_count": null,
      "outputs": []
    }
  ]
}