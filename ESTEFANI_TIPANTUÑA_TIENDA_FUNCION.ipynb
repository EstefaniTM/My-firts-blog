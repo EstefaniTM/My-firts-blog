{
  "nbformat": 4,
  "nbformat_minor": 0,
  "metadata": {
    "colab": {
      "provenance": [],
      "authorship_tag": "ABX9TyPRn02Q0JiAqcZ99wayDsMs",
      "include_colab_link": true
    },
    "kernelspec": {
      "name": "python3",
      "display_name": "Python 3"
    },
    "language_info": {
      "name": "python"
    }
  },
  "cells": [
    {
      "cell_type": "markdown",
      "metadata": {
        "id": "view-in-github",
        "colab_type": "text"
      },
      "source": [
        "<a href=\"https://colab.research.google.com/github/EstefaniTM/My-firts-blog/blob/main/ESTEFANI_TIPANTU%C3%91A_TIENDA_FUNCION.ipynb\" target=\"_parent\"><img src=\"https://colab.research.google.com/assets/colab-badge.svg\" alt=\"Open In Colab\"/></a>"
      ]
    },
    {
      "cell_type": "code",
      "execution_count": null,
      "metadata": {
        "colab": {
          "base_uri": "https://localhost:8080/"
        },
        "id": "AaNE0niyYhDS",
        "outputId": "a5a62467-c44e-4bf9-e21d-e1db561ba383"
      },
      "outputs": [
        {
          "output_type": "stream",
          "name": "stdout",
          "text": [
            "------------------------------\n",
            "            MENU              \n",
            "------------------------------\n",
            "1. Agregar producto\n",
            "2. Eliminar producto\n",
            "3. Consultar\n",
            "4. Modificar stock\n",
            "0. Salir\n",
            "------------------------------\n",
            "\n",
            "\n"
          ]
        }
      ],
      "source": [
        "def menu():\n",
        "    print(\"------------------------------\")\n",
        "    print(\"            MENU              \")\n",
        "    print(\"------------------------------\")\n",
        "    print(\"1. Agregar producto\")\n",
        "    print(\"2. Eliminar producto\")\n",
        "    print(\"3. Consultar\")\n",
        "    print(\"4. Modificar stock\")\n",
        "    print(\"0. Salir\")\n",
        "    print(\"------------------------------\")\n",
        "    print(\"\\n\")\n",
        "\n",
        "def agregar_producto():\n",
        "    print(\"\\n\")\n",
        "    print(\"-------------Agregar producto-------------\")\n",
        "    ide = int(input(\"Ingrese el id: \"))\n",
        "    prod = input(\"Ingrese el producto: \")\n",
        "    pre = float(input(\"Ingrese el precio: \"))\n",
        "    stocke = int(input(\"Ingrese el stock: \"))\n",
        "    listaprod.append({'id': ide, 'productos': prod, 'precio': pre, 'stock': stocke})\n",
        "    print(listaprod)\n",
        "\n",
        "def eliminar_producto():\n",
        "    print(\"\\n\")\n",
        "    print(\"-------------Eliminar producto-------------\")\n",
        "    preg2 = int(input(\"Ingrese el id del producto para borrar: \"))\n",
        "    for var in range(len(listaprod)):\n",
        "        if listaprod[var]['id'] == preg2:\n",
        "            del listaprod[var]\n",
        "            print(f\"El producto {preg2} ha sido borrado\")\n",
        "            break\n",
        "    else:\n",
        "        print(\"No se ha encontrado el producto\")\n",
        "\n",
        "def consultar_producto():\n",
        "    print(\"\\n\")\n",
        "    print(\"-------------Consultar-------------\")\n",
        "    preg3 = int(input(\"Ingrese el id del producto para consultar: \"))\n",
        "    for var in range(len(listaprod)):\n",
        "        if listaprod[var]['id'] == preg3:\n",
        "            print(f\"El producto con id: {preg3} es: {listaprod[var]['productos']}, y su precio es: {listaprod[var]['precio']}\")\n",
        "            break\n",
        "    else:\n",
        "        print(\"No se ha encontrado el producto\")\n",
        "\n",
        "def modificar_stock():\n",
        "    print(\"\\n\")\n",
        "    print(\"-------------Modificar stock-------------\")\n",
        "    preg4 = int(input(\"Ingrese el id del producto para modificar el stock: \"))\n",
        "    for var in range(len(listaprod)):\n",
        "        if listaprod[var]['id'] == preg4:\n",
        "            nuevo = int(input(\"Ingrese el número que quiere modificar del stock: \"))\n",
        "            listaprod[var]['stock'] = nuevo\n",
        "            print(f\"El stock del producto con id {preg4} ha sido modificado a {nuevo}\")\n",
        "            break\n",
        "    else:\n",
        "        print(\"No se ha encontrado el producto\")\n",
        "\n",
        "listaprod = []\n",
        "while True:\n",
        "    menu()\n",
        "    var = int(input(\"Ingresa un numero para empezar: \"))\n",
        "    if var == 0:\n",
        "        print(\"Cerrando...\")\n",
        "        break\n",
        "    elif var == 1:\n",
        "        agregar_producto()\n",
        "    elif var == 2:\n",
        "        eliminar_producto()\n",
        "    elif var == 3:\n",
        "        consultar_producto()\n",
        "    elif var == 4:\n",
        "        modificar_stock()\n",
        "    else:\n",
        "        print(\"Opción no válida. Por favor, intente de nuevo.\")\n"
      ]
    }
  ]
}